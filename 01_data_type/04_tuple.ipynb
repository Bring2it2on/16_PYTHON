{
 "cells": [
  {
   "cell_type": "markdown",
   "metadata": {},
   "source": [
    "# 04. 튜플 (Tuple)\n",
    "---\n",
    "## 04-01 튜플 개요\n",
    "### 04-01-01. 튜플이란?\n",
    "* 여러개의 값을 하나의 변수에 저장할 수 있는 자료 구조이다.\n",
    "* 튜플은 한 번 생성되면 그 값을 변경할 수 없다.\n",
    "\n",
    "### 04-01-02. 튜플 표현식\n",
    "* 튜플은 소괄호를 사용하거나 사용하지 않고 생성할 수 있으며, 생성된 이후에는 그 값을 변경할 수 없다."
   ]
  },
  {
   "cell_type": "code",
   "execution_count": 1,
   "metadata": {},
   "outputs": [],
   "source": [
    "튜플명 = ('값1', '값2', ...)"
   ]
  },
  {
   "cell_type": "markdown",
   "metadata": {},
   "source": [
    "---\n",
    "## 04-02. 튜플 연산\n",
    "### 04-02-01. 불변 객체\n",
    "- 튜플은 불변 객체이므로 요소 값을 한 번 할당하면, 추가, 수정, 삭제가 불가하다.\n",
    "- 이 때 값을 재할당하면 값이 다시 입력될 수 있는데, 기존의 변수에 값이 재할당 되는 것이 아닌, 새로운 변수가 생성되는 것"
   ]
  },
  {
   "cell_type": "code",
   "execution_count": 2,
   "metadata": {},
   "outputs": [
    {
     "name": "stdout",
     "output_type": "stream",
     "text": [
      "2009333519424\n",
      "2009333393152\n"
     ]
    }
   ],
   "source": [
    "# id() : 인자로 전달된 개체의 주소값을 반환\n",
    "# 메모리의 위치가 다르다.\n",
    "# 튜플은 불변객체이기 때문에 튜플이 변경될 때 마다 새로운 객체를 생성한다.\n",
    "\n",
    "test_list = (1,2,3,4)\n",
    "print(id(test_list))\n",
    "\n",
    "test_list = (3,4,5)\n",
    "print(id(test_list))"
   ]
  },
  {
   "cell_type": "markdown",
   "metadata": {},
   "source": [
    "### 04-02-02. 튜플간 연산"
   ]
  },
  {
   "cell_type": "code",
   "execution_count": 6,
   "metadata": {},
   "outputs": [],
   "source": [
    "safari_tuple = ('bear', 'koala', 'gorilla', 'squirrel')"
   ]
  },
  {
   "cell_type": "code",
   "execution_count": 4,
   "metadata": {},
   "outputs": [
    {
     "name": "stdout",
     "output_type": "stream",
     "text": [
      "('bear', 'koala', 'gorilla', 'squirrel', 'monkey', 'tiger', 'wolf')\n",
      "('bear', 'koala', 'gorilla', 'squirrel', 'bear', 'koala', 'gorilla', 'squirrel', 'bear', 'koala', 'gorilla', 'squirrel')\n",
      "7\n"
     ]
    }
   ],
   "source": [
    "# 튜플 합치기\n",
    "another_safari_tuple = ('monkey', 'tiger', 'wolf')\n",
    "\n",
    "print(safari_tuple + another_safari_tuple)\n",
    "\n",
    "# 튜플 반복\n",
    "print(safari_tuple * 3)\n",
    "\n",
    "# 튜플 길이\n",
    "print(len(safari_tuple + another_safari_tuple))"
   ]
  }
 ],
 "metadata": {
  "kernelspec": {
   "display_name": "python_test",
   "language": "python",
   "name": "python3"
  },
  "language_info": {
   "codemirror_mode": {
    "name": "ipython",
    "version": 3
   },
   "file_extension": ".py",
   "mimetype": "text/x-python",
   "name": "python",
   "nbconvert_exporter": "python",
   "pygments_lexer": "ipython3",
   "version": "3.12.7"
  }
 },
 "nbformat": 4,
 "nbformat_minor": 2
}
