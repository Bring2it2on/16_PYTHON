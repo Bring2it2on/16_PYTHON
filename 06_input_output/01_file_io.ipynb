{
 "cells": [
  {
   "cell_type": "markdown",
   "metadata": {},
   "source": [
    "# 01. 파일 입출력\n",
    "---\n",
    "## 01-01. 파일 접근\n",
    "### 01-01-01. 파일 열기 open()\n",
    "- 인자로 경로를 포함한 파일명과 파일 열기 모드를 알파벳으로 전달하면서 호출하면, 파일 객체를 반환하는 함수\n",
    "- 첫 번째 매개변수 : 파일명 (경로 포함)\n",
    "- 두 번째 매개변수 : 파일 열기 모드를 설정\n",
    "    - r : 읽기 모드\n",
    "    - w : 쓰기 모드 (덮어쓰기), 기존 파일이 없으면 새로운 파일이 생성된다.\n",
    "    - a : 수정 모드 (파일 끝에 내용 추가)"
   ]
  },
  {
   "cell_type": "code",
   "execution_count": 3,
   "metadata": {},
   "outputs": [
    {
     "name": "stdout",
     "output_type": "stream",
     "text": [
      "<_io.TextIOWrapper name='song.txt' mode='r' encoding='utf-8'>\n"
     ]
    }
   ],
   "source": [
    "f = open('song.txt', 'r')\n",
    "print(f)\n"
   ]
  },
  {
   "cell_type": "markdown",
   "metadata": {},
   "source": [
    "### 01-01-02. 파일 닫기 : close()\n",
    "- 열려있는 파일 객체를 닫아주는 역할"
   ]
  },
  {
   "cell_type": "code",
   "execution_count": 2,
   "metadata": {},
   "outputs": [],
   "source": [
    "f.close()"
   ]
  },
  {
   "cell_type": "markdown",
   "metadata": {},
   "source": [
    "## 01-02. 파일 쓰기\n",
    "### 01-02-01. write()\n",
    "- open한 파일 객체에 대해 write() 메서드를 사용하면, 인자로 넘겨준 하나의 문자열을 파일에 작성한다."
   ]
  },
  {
   "cell_type": "code",
   "execution_count": 4,
   "metadata": {},
   "outputs": [],
   "source": [
    "f = open('song_test.txt', 'w')\n",
    "f.write('오래전에 함께 듣던 노래가')\n",
    "f.close()"
   ]
  },
  {
   "cell_type": "markdown",
   "metadata": {},
   "source": [
    "### 01-02-02. writelines()\n",
    "- 인자로 넘겨준 리스트의 요소를 하나하나 파일에 작성한다."
   ]
  },
  {
   "cell_type": "code",
   "execution_count": 6,
   "metadata": {},
   "outputs": [],
   "source": [
    "data = [\n",
    "'너일까 봐 한 번 더 바라보고\\n',\n",
    "'너일까 봐 자꾸 돌아보게 돼\\n',\n",
    "'어디선가 같은 노래를 듣고\\n',\n",
    "'날 생각하며 너 역시 멈춰있을까?\\n',\n",
    "]\n",
    "\n",
    "f = open('song_test.txt', 'w')\n",
    "\n",
    "f.writelines(data)\n",
    "\n",
    "f.close()"
   ]
  },
  {
   "cell_type": "markdown",
   "metadata": {},
   "source": [
    "## 01-03. 파일 읽기\n",
    "### 01-03-01. 파일 전체 읽기 read()\n",
    "- 파일 전체 내용을 읽어와 하나의 문자열로 반환한다. "
   ]
  },
  {
   "cell_type": "code",
   "execution_count": 9,
   "metadata": {},
   "outputs": [
    {
     "name": "stdout",
     "output_type": "stream",
     "text": [
      "오래전에 함께 듣던 노래가\n",
      "발걸음을 다시 멈춰 서게 해\n",
      "이 거리에서 너를 느낄 수 있어\n",
      "널 이곳에서 꼭 다시 만날 것 같아\n",
      "\n",
      "너일까 봐 한 번 더 바라보고\n",
      "너일까 봐 자꾸 돌아보게 돼\n",
      "어디선가 같은 노래를 듣고\n",
      "날 생각하며 너 역시 멈춰있을까?\n",
      "\n",
      "오래전에 함께 듣던 노래가\n",
      "거리에서 내게 우연히 들려온 것처럼\n",
      "살아가다 한 번쯤 우연히 만날 것 같아\n",
      "사랑했던 그 모습 그대로\n"
     ]
    }
   ],
   "source": [
    "f = open('song.txt', 'r')\n",
    "data = f.read()\n",
    "\n",
    "print(data)\n",
    "\n",
    "f.close()"
   ]
  },
  {
   "cell_type": "markdown",
   "metadata": {},
   "source": [
    "### 01-03-02. 파일에서 한줄만 읽기 : readline()"
   ]
  },
  {
   "cell_type": "code",
   "execution_count": 13,
   "metadata": {},
   "outputs": [
    {
     "name": "stdout",
     "output_type": "stream",
     "text": [
      "오래전에 함께 듣던 노래가\n",
      "\n",
      "발걸음을 다시 멈춰 서게 해\n",
      "\n",
      "이 거리에서 너를 느낄 수 있어\n",
      "\n",
      "널 이곳에서 꼭 다시 만날 것 같아\n",
      "\n",
      "\n",
      "\n",
      "너일까 봐 한 번 더 바라보고\n",
      "\n",
      "너일까 봐 자꾸 돌아보게 돼\n",
      "\n",
      "어디선가 같은 노래를 듣고\n",
      "\n",
      "날 생각하며 너 역시 멈춰있을까?\n",
      "\n",
      "\n",
      "\n",
      "오래전에 함께 듣던 노래가\n",
      "\n",
      "거리에서 내게 우연히 들려온 것처럼\n",
      "\n",
      "살아가다 한 번쯤 우연히 만날 것 같아\n",
      "\n",
      "사랑했던 그 모습 그대로\n"
     ]
    }
   ],
   "source": [
    "f = open('song.txt', 'r')\n",
    "\n",
    "while True:\n",
    "    data = f.readline()\n",
    "\n",
    "    if not data:\n",
    "        break\n",
    "\n",
    "    print(data)\n",
    "\n",
    "f.close()"
   ]
  },
  {
   "cell_type": "code",
   "execution_count": 16,
   "metadata": {},
   "outputs": [
    {
     "name": "stdout",
     "output_type": "stream",
     "text": [
      "['오래전에 함께 듣던 노래가\\n', '발걸음을 다시 멈춰 서게 해\\n', '이 거리에서 너를 느낄 수 있어\\n', '널 이곳에서 꼭 다시 만날 것 같아\\n', '\\n', '너일까 봐 한 번 더 바라보고\\n', '너일까 봐 자꾸 돌아보게 돼\\n', '어디선가 같은 노래를 듣고\\n', '날 생각하며 너 역시 멈춰있을까?\\n', '\\n', '오래전에 함께 듣던 노래가\\n', '거리에서 내게 우연히 들려온 것처럼\\n', '살아가다 한 번쯤 우연히 만날 것 같아\\n', '사랑했던 그 모습 그대로']\n"
     ]
    }
   ],
   "source": [
    "# 파일 전체를 줄마다 (리스트 형태로) 가져오기\n",
    "\n",
    "f = open('song.txt', 'r')\n",
    "\n",
    "data = f.readlines()\n",
    "\n",
    "print(data)\n",
    "\n",
    "f.close()"
   ]
  },
  {
   "cell_type": "markdown",
   "metadata": {},
   "source": [
    "---\n",
    "## 01-04. 파일 내용 추가하기\n",
    "\n",
    "### 01-04-01. 파일 내용 추가 모드\n",
    "- 추가모드 'a'를 사용하여 파일을 열어 내용을 추가할 수 있다."
   ]
  },
  {
   "cell_type": "code",
   "execution_count": 19,
   "metadata": {},
   "outputs": [],
   "source": [
    "f = open('song.txt','a')\n",
    "f.write('\\n\\n노래끝')\n",
    "f.close()"
   ]
  },
  {
   "cell_type": "markdown",
   "metadata": {},
   "source": [
    "---\n",
    "## 01-05. with 키워드\n",
    "- 파일을 열어서 사용하고 사용이 종료되면 닫는 역할을 한다.\n",
    "- with 문을 사용하면 with 블록을 벗어나는 순간, 객체가 닫히게 된다."
   ]
  },
  {
   "cell_type": "code",
   "execution_count": 20,
   "metadata": {},
   "outputs": [],
   "source": [
    "with open(\"song_test.txt\", 'w') as f:\n",
    "    f.write('Life is too, short, you need python')"
   ]
  }
 ],
 "metadata": {
  "kernelspec": {
   "display_name": "python_test",
   "language": "python",
   "name": "python3"
  },
  "language_info": {
   "codemirror_mode": {
    "name": "ipython",
    "version": 3
   },
   "file_extension": ".py",
   "mimetype": "text/x-python",
   "name": "python",
   "nbconvert_exporter": "python",
   "pygments_lexer": "ipython3",
   "version": "3.12.7"
  }
 },
 "nbformat": 4,
 "nbformat_minor": 2
}
