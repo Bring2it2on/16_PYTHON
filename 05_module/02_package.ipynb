{
 "cells": [
  {
   "cell_type": "markdown",
   "metadata": {},
   "source": [
    "# 02. 패키지(Package)\n",
    "---\n",
    "## 02-01. 패키지 개요\n",
    "### 패키지란?\n",
    "* 관련있는 함수 클래스, 변수 등을 묶어 만든 모듈을 폴더로 구분하여 관리하는 것\n",
    "* 하나 이상의 모듈을 가지고 있는 폴더를 패키지 라고 부른다."
   ]
  },
  {
   "cell_type": "markdown",
   "metadata": {},
   "source": [
    "### 02-01-02. 패키지 import\n",
    "\n",
    "* 패키지에 포함된 모듈을 import하기 위해 import 구문에서 모듈명 앞에 **패키지명.** 을 붙여준다.\n",
    "* 사용할때도 패키지명.모듈명을 붙여 사용한다."
   ]
  },
  {
   "cell_type": "code",
   "execution_count": 1,
   "metadata": {},
   "outputs": [
    {
     "name": "stdout",
     "output_type": "stream",
     "text": [
      "크왕\n"
     ]
    }
   ],
   "source": [
    "import og.team.teacher\n",
    "\n",
    "print(og.team.teacher.gorilla())"
   ]
  },
  {
   "cell_type": "code",
   "execution_count": 2,
   "metadata": {},
   "outputs": [
    {
     "name": "stdout",
     "output_type": "stream",
     "text": [
      "크왕\n"
     ]
    }
   ],
   "source": [
    "# 별칭으로 사용\n",
    "import og.team.teacher as teacher\n",
    "\n",
    "print(teacher.gorilla())"
   ]
  },
  {
   "cell_type": "code",
   "execution_count": 3,
   "metadata": {},
   "outputs": [
    {
     "name": "stdout",
     "output_type": "stream",
     "text": [
      "크왕\n"
     ]
    }
   ],
   "source": [
    "# from-import 사용\n",
    "from og.team.teacher import gorilla\n",
    "\n",
    "print(gorilla())"
   ]
  },
  {
   "cell_type": "markdown",
   "metadata": {},
   "source": [
    "---\n",
    "## 02-02. PyPI (Python Package Index)\n",
    "### 02-02-01. PyPI란?\n",
    "* 개인 혹은 단체에 의해 개발 및 유지되는 파이썬 외부 라이브러리를 호스팅하고 배포하는 공식 저장소\n",
    "* 파이썬 패키지 관리 시스템인 **pip** 를 통해 설치하여 사용 가능하다.\n",
    "* https://pypi.org/"
   ]
  },
  {
   "cell_type": "markdown",
   "metadata": {},
   "source": [
    "### 02-02-02. pip?\n",
    "* PyPI에 공유된 패키지를 검색하고 설치하기 위한 명령어\n",
    "* pip 명령어를 활용하여 특정 패키지 설치, 업그레이드, 제거, 패키지 목록 관리 등을 할 수 있다.\n",
    "\n",
    "| **명령어** | **의미** |\n",
    "| --- | --- |\n",
    "| pip install *패키지명* | PyPI에서 패키지명으로 검색하여 최신 버전 설치 |\n",
    "| pip install *패키지명*==*버전* | 특정 버전의 패키지를 설치 |\n",
    "| pip list | 설치된 전체 패키지 및 버전 확인 |\n",
    "| pip list | grep *패키지명* | 설치된 특정 패키지 및 해당 패키지의 버전 확인 |\n",
    "| pip install --upgrade *패키지명* | 특정 패키지의 버전 업데이트 |\n",
    "| pip uninstall *패키지명* | 설치된 특정 패키지 제거 |\n",
    "\n",
    "- 패키지가 '의존성'으로 인해 pip install 시 명시한 패키지 외의 다른 패키지가 같이 설치되기도 한다."
   ]
  },
  {
   "cell_type": "markdown",
   "metadata": {},
   "source": [
    "### 02-02-03. requirements.txt\n",
    "- 파이썬으로 인공지능 서빙 프로그램을 만들 때 ,프로그램의 종속성 관리를 위해 사용하는 파일의 통상적 이름\n",
    "- 프로젝트에서 사용되는 모든 패키지와 버전이 나열되어 있어, 프로젝트를 배포하거나 다른 환경에서 실행할때 동일한 패키지 환경을 제공 할 수 있도록 한다."
   ]
  },
  {
   "cell_type": "code",
   "execution_count": 1,
   "metadata": {},
   "outputs": [
    {
     "name": "stdout",
     "output_type": "stream",
     "text": [
      "Note: you may need to restart the kernel to use updated packages.\n"
     ]
    }
   ],
   "source": [
    "pip freeze > requirements.txt"
   ]
  },
  {
   "cell_type": "markdown",
   "metadata": {},
   "source": [
    "- requirements.txt 파일을 이용한 라이브러리 설치\n",
    "    - r 옵션 뒤에 오는 파일 경로를 읽어 해당 파일 내에 명시된 패키지를 설치한다."
   ]
  },
  {
   "cell_type": "code",
   "execution_count": 2,
   "metadata": {},
   "outputs": [
    {
     "name": "stdout",
     "output_type": "stream",
     "text": [
      "Requirement already satisfied: asttokens==2.4.1 in c:\\users\\80409\\miniforge3\\envs\\python_test\\lib\\site-packages (from -r requirements.txt (line 1)) (2.4.1)\n",
      "Requirement already satisfied: colorama==0.4.6 in c:\\users\\80409\\miniforge3\\envs\\python_test\\lib\\site-packages (from -r requirements.txt (line 2)) (0.4.6)\n",
      "Requirement already satisfied: comm==0.2.2 in c:\\users\\80409\\miniforge3\\envs\\python_test\\lib\\site-packages (from -r requirements.txt (line 3)) (0.2.2)\n",
      "Requirement already satisfied: debugpy==1.8.7 in c:\\users\\80409\\miniforge3\\envs\\python_test\\lib\\site-packages (from -r requirements.txt (line 4)) (1.8.7)\n",
      "Requirement already satisfied: decorator==5.1.1 in c:\\users\\80409\\miniforge3\\envs\\python_test\\lib\\site-packages (from -r requirements.txt (line 5)) (5.1.1)\n",
      "Requirement already satisfied: executing==2.1.0 in c:\\users\\80409\\miniforge3\\envs\\python_test\\lib\\site-packages (from -r requirements.txt (line 6)) (2.1.0)\n",
      "Requirement already satisfied: ipykernel==6.29.5 in c:\\users\\80409\\miniforge3\\envs\\python_test\\lib\\site-packages (from -r requirements.txt (line 7)) (6.29.5)\n",
      "Requirement already satisfied: ipython==8.28.0 in c:\\users\\80409\\miniforge3\\envs\\python_test\\lib\\site-packages (from -r requirements.txt (line 8)) (8.28.0)\n",
      "Requirement already satisfied: jedi==0.19.1 in c:\\users\\80409\\miniforge3\\envs\\python_test\\lib\\site-packages (from -r requirements.txt (line 9)) (0.19.1)\n",
      "Requirement already satisfied: jupyter_client==8.6.3 in c:\\users\\80409\\miniforge3\\envs\\python_test\\lib\\site-packages (from -r requirements.txt (line 10)) (8.6.3)\n",
      "Requirement already satisfied: jupyter_core==5.7.2 in c:\\users\\80409\\miniforge3\\envs\\python_test\\lib\\site-packages (from -r requirements.txt (line 11)) (5.7.2)\n",
      "Requirement already satisfied: matplotlib-inline==0.1.7 in c:\\users\\80409\\miniforge3\\envs\\python_test\\lib\\site-packages (from -r requirements.txt (line 12)) (0.1.7)\n",
      "Requirement already satisfied: nest-asyncio==1.6.0 in c:\\users\\80409\\miniforge3\\envs\\python_test\\lib\\site-packages (from -r requirements.txt (line 13)) (1.6.0)\n",
      "Requirement already satisfied: packaging==24.1 in c:\\users\\80409\\miniforge3\\envs\\python_test\\lib\\site-packages (from -r requirements.txt (line 14)) (24.1)\n",
      "Requirement already satisfied: parso==0.8.4 in c:\\users\\80409\\miniforge3\\envs\\python_test\\lib\\site-packages (from -r requirements.txt (line 15)) (0.8.4)\n",
      "Requirement already satisfied: platformdirs==4.3.6 in c:\\users\\80409\\miniforge3\\envs\\python_test\\lib\\site-packages (from -r requirements.txt (line 16)) (4.3.6)\n",
      "Requirement already satisfied: prompt_toolkit==3.0.48 in c:\\users\\80409\\miniforge3\\envs\\python_test\\lib\\site-packages (from -r requirements.txt (line 17)) (3.0.48)\n",
      "Requirement already satisfied: psutil==6.0.0 in c:\\users\\80409\\miniforge3\\envs\\python_test\\lib\\site-packages (from -r requirements.txt (line 18)) (6.0.0)\n",
      "Requirement already satisfied: pure_eval==0.2.3 in c:\\users\\80409\\miniforge3\\envs\\python_test\\lib\\site-packages (from -r requirements.txt (line 19)) (0.2.3)\n",
      "Requirement already satisfied: Pygments==2.18.0 in c:\\users\\80409\\miniforge3\\envs\\python_test\\lib\\site-packages (from -r requirements.txt (line 20)) (2.18.0)\n",
      "Requirement already satisfied: python-dateutil==2.9.0.post0 in c:\\users\\80409\\miniforge3\\envs\\python_test\\lib\\site-packages (from -r requirements.txt (line 21)) (2.9.0.post0)\n",
      "Requirement already satisfied: pywin32==308 in c:\\users\\80409\\miniforge3\\envs\\python_test\\lib\\site-packages (from -r requirements.txt (line 22)) (308)\n",
      "Requirement already satisfied: pyzmq==26.2.0 in c:\\users\\80409\\miniforge3\\envs\\python_test\\lib\\site-packages (from -r requirements.txt (line 23)) (26.2.0)\n",
      "Requirement already satisfied: setuptools==75.1.0 in c:\\users\\80409\\miniforge3\\envs\\python_test\\lib\\site-packages (from -r requirements.txt (line 24)) (75.1.0)\n",
      "Requirement already satisfied: six==1.16.0 in c:\\users\\80409\\miniforge3\\envs\\python_test\\lib\\site-packages (from -r requirements.txt (line 25)) (1.16.0)\n",
      "Requirement already satisfied: stack-data==0.6.3 in c:\\users\\80409\\miniforge3\\envs\\python_test\\lib\\site-packages (from -r requirements.txt (line 26)) (0.6.3)\n",
      "Requirement already satisfied: tornado==6.4.1 in c:\\users\\80409\\miniforge3\\envs\\python_test\\lib\\site-packages (from -r requirements.txt (line 27)) (6.4.1)\n",
      "Requirement already satisfied: traitlets==5.14.3 in c:\\users\\80409\\miniforge3\\envs\\python_test\\lib\\site-packages (from -r requirements.txt (line 28)) (5.14.3)\n",
      "Requirement already satisfied: wcwidth==0.2.13 in c:\\users\\80409\\miniforge3\\envs\\python_test\\lib\\site-packages (from -r requirements.txt (line 29)) (0.2.13)\n",
      "Requirement already satisfied: wheel==0.44.0 in c:\\users\\80409\\miniforge3\\envs\\python_test\\lib\\site-packages (from -r requirements.txt (line 30)) (0.44.0)\n",
      "Note: you may need to restart the kernel to use updated packages.\n"
     ]
    }
   ],
   "source": [
    "pip install -r requirements.txt"
   ]
  },
  {
   "cell_type": "markdown",
   "metadata": {},
   "source": [
    "* requirements.txt 사용시 주의사항\n",
    "    * 가상환경 사용: requirements.txt 파일을 생성하기전에 가상환경을 사용하는 것이 좋다. <br>\n",
    "    프로젝트에 필요한 패키지들만 requirements.txt에 포함되게 하여, 불필요한 패키지들이 포함되는 것을 방지\n",
    "    * 패키지 버전 관리: requirements.txt 파일에 포함된 패키지 버전을 고정하면, 환경의 일관성을 유지할 수 있다. <br>\n",
    "    필요에 따라 버전을 업데이트하는 것도 중요하다.\n",
    "    * 선별적인 설치: 특정 패키지를 무시하거나 선택적으로 설치하고 싶다면, requirements.txt 파일을 편집하면 된다."
   ]
  }
 ],
 "metadata": {
  "kernelspec": {
   "display_name": "python_test",
   "language": "python",
   "name": "python3"
  },
  "language_info": {
   "codemirror_mode": {
    "name": "ipython",
    "version": 3
   },
   "file_extension": ".py",
   "mimetype": "text/x-python",
   "name": "python",
   "nbconvert_exporter": "python",
   "pygments_lexer": "ipython3",
   "version": "3.12.7"
  }
 },
 "nbformat": 4,
 "nbformat_minor": 2
}
