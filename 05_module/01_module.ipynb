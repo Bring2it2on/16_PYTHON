{
 "cells": [
  {
   "cell_type": "markdown",
   "metadata": {},
   "source": [
    "# 01. Module (모듈)\n",
    "---\n",
    "## 01-01. 모듈 개요\n",
    "### 01-01-01. 모듈이란?\n",
    "\n",
    "* 하나의 모듈은 서로 관련된 코드의 집합이자 하나의 파일을 의미한다.\n",
    "* 함수, 클래스, 변수 등을 모듈 내에 정의할 수 있다.\n",
    "* 만들어진 모듈은 다른 Python 프로그램에서 가져와 사용 가능하다.\n",
    "\n",
    "### 01-01-02. 모듈 장점\n",
    "1. 재사용성 : 한번 작성한 코드를 여러 프로그램에서 재사용 할 수 있다.\n",
    "2. 유지보수성 : 큰 프로그램을 작은 모듈로 나누어 코드 관리를 함으로써 유지보수를 용이하게 할 수 있다.\n",
    "3. 네임스페이스 : 모듈마다 독립적인 네임스페이스를 제공하여 변수이름 충돌을 방지 할 수 있다.\n"
   ]
  },
  {
   "cell_type": "markdown",
   "metadata": {},
   "source": [
    "## 01-02. 모듈 사용\n"
   ]
  },
  {
   "cell_type": "markdown",
   "metadata": {},
   "source": [
    "### 01-02-01. 모듈 사용 절차\n",
    "1. 파일(모듈)을 전체 import\n",
    "    * 하나의 경로와 파일명(확장자 제외 [.py])를 import 하면, 현재 스크립트에서 다른곳에 정의한 스크립트를 불러 올 수 있다."
   ]
  },
  {
   "cell_type": "code",
   "execution_count": 1,
   "metadata": {},
   "outputs": [
    {
     "name": "stdout",
     "output_type": "stream",
     "text": [
      "꾸어엉\n",
      "오지라퍼스\n"
     ]
    }
   ],
   "source": [
    "import ohgiraffers\n",
    "\n",
    "print(ohgiraffers.bear()) # 함수 가져오기\n",
    "print(ohgiraffers.ohgiraffers) # 변수 가져오기"
   ]
  },
  {
   "cell_type": "markdown",
   "metadata": {},
   "source": [
    "2. from-import \n",
    "    * 특정 함수 또는 변수만 가져올 수 있다.\n",
    "    * from 키워드 뒤에 import 대상 모듈을 지정하고, 그 뒤로 impor할 함수나 변수를 작성한다."
   ]
  },
  {
   "cell_type": "code",
   "execution_count": 3,
   "metadata": {},
   "outputs": [
    {
     "name": "stdout",
     "output_type": "stream",
     "text": [
      "꾸어엉\n",
      "오지라퍼스\n"
     ]
    }
   ],
   "source": [
    "from ohgiraffers import bear, ohgiraffers\n",
    "\n",
    "print(bear()) # 참조하지 않고 사용 가능\n",
    "print(ohgiraffers)"
   ]
  },
  {
   "cell_type": "markdown",
   "metadata": {},
   "source": [
    "3.  모듈에 별칭을 부여할 수 있다.\n",
    "    * 파일 이름이 길거나 복잡할때, 호출 시마다 모듈명을 작성하기 힘드므로,<br> as 를 붙여 모듈에 별칭을 부여 할 수 있다."
   ]
  },
  {
   "cell_type": "code",
   "execution_count": 4,
   "metadata": {},
   "outputs": [
    {
     "name": "stdout",
     "output_type": "stream",
     "text": [
      "오지라퍼스\n",
      "꾸어엉\n"
     ]
    }
   ],
   "source": [
    "import ohgiraffers as og\n",
    "\n",
    "print(og.ohgiraffers)\n",
    "print(og.bear())"
   ]
  },
  {
   "cell_type": "markdown",
   "metadata": {},
   "source": [
    "4. 특정 함수 또는 변수에도 별칭을 부여할 수 있다."
   ]
  },
  {
   "cell_type": "code",
   "execution_count": 7,
   "metadata": {},
   "outputs": [
    {
     "name": "stdout",
     "output_type": "stream",
     "text": [
      "꾸어엉\n",
      "오지라퍼스\n"
     ]
    }
   ],
   "source": [
    "from ohgiraffers import bear as b, ohgiraffers as og\n",
    "\n",
    "print(b())\n",
    "print(og)"
   ]
  },
  {
   "cell_type": "markdown",
   "metadata": {},
   "source": [
    "5. 표준 라이브러리 모듈을 import 하여 사용할 수 있다."
   ]
  },
  {
   "cell_type": "code",
   "execution_count": 9,
   "metadata": {},
   "outputs": [
    {
     "name": "stdout",
     "output_type": "stream",
     "text": [
      "4.0\n",
      "120\n",
      "3.141592653589793\n"
     ]
    }
   ],
   "source": [
    "import math\n",
    "\n",
    "print(math.sqrt(16))\n",
    "print(math.factorial(5))\n",
    "print(math.pi)"
   ]
  },
  {
   "cell_type": "code",
   "execution_count": 10,
   "metadata": {},
   "outputs": [
    {
     "name": "stdout",
     "output_type": "stream",
     "text": [
      "\n",
      "Please wait a moment while I gather a list of all available modules...\n",
      "\n",
      "pygame 2.6.1 (SDL 2.28.4, Python 3.12.7)\n",
      "Hello from the pygame community. https://www.pygame.org/contribute.html\n",
      "IPython             bleach              mimetypes           symtable\n",
      "__future__          bs4                 mistune             sys\n",
      "__hello__           builtins            mmap                sysconfig\n",
      "__phello__          bz2                 mmapfile            tabnanny\n",
      "_abc                cProfile            mmsystem            tarfile\n",
      "_aix_support        calendar            modulefinder        telnetlib\n",
      "_argon2_cffi_bindings certifi             more_itertools      tempfile\n",
      "_ast                cffi                msilib              terminado\n",
      "_asyncio            cgi                 msvcrt              test\n",
      "_bisect             cgitb               multiprocessing     textwrap\n",
      "_blake2             charset_normalizer  nbclient            this\n",
      "_bz2                chunk               nbconvert           threading\n",
      "_cffi_backend       cmath               nbformat            time\n",
      "_codecs             cmd                 nest_asyncio        timeit\n",
      "_codecs_cn          code                netbios             timer\n",
      "_codecs_hk          codecs              netrc               tinycss2\n",
      "_codecs_iso2022     codeop              nntplib             tkinter\n",
      "_codecs_jp          collections         notebook            token\n",
      "_codecs_kr          colorama            notebook_shim       tokenize\n",
      "_codecs_tw          colorsys            nt                  tomli\n",
      "_collections        comm                ntpath              tomllib\n",
      "_collections_abc    commctrl            ntsecuritycon       tornado\n",
      "_compat_pickle      compileall          nturl2path          trace\n",
      "_compression        concurrent          numbers             traceback\n",
      "_contextvars        configparser        odbc                tracemalloc\n",
      "_csv                contextlib          ohgiraffers         traitlets\n",
      "_ctypes             contextvars         opcode              trio\n",
      "_ctypes_test        copy                operator            trio_websocket\n",
      "_datetime           copyreg             optparse            tty\n",
      "_decimal            crypt               os                  turtle\n",
      "_distutils_hack     csv                 outcome             turtledemo\n",
      "_elementtree        ctypes              overrides           typeguard\n",
      "_functools          curses              packaging           types\n",
      "_hashlib            dataclasses         pandocfilters       typing\n",
      "_heapq              datetime            parso               typing_extensions\n",
      "_imp                dateutil            pathlib             unicodedata\n",
      "_io                 dbm                 pdb                 unittest\n",
      "_json               dde                 perfmon             uri_template\n",
      "_locale             debugpy             pickle              urllib\n",
      "_lsprof             decimal             pickletools         urllib3\n",
      "_lzma               decorator           pip                 uu\n",
      "_markupbase         defusedxml          pipes               uuid\n",
      "_md5                difflib             pkg_resources       venv\n",
      "_msi                dis                 pkgutil             warnings\n",
      "_multibytecodec     doctest             platform            wave\n",
      "_multiprocessing    dotenv              platformdirs        wcwidth\n",
      "_opcode             email               plistlib            weakref\n",
      "_operator           encodings           poplib              webbrowser\n",
      "_osx_support        ensurepip           posixpath           webcolors\n",
      "_overlapped         enum                pprint              webdriver_manager\n",
      "_pickle             errno               profile             webencodings\n",
      "_py_abc             executing           prometheus_client   websocket\n",
      "_pydatetime         fastjsonschema      prompt_toolkit      wheel\n",
      "_pydecimal          faulthandler        pstats              widgetsnbextension\n",
      "_pyio               filecmp             psutil              win2kras\n",
      "_pylong             fileinput           pty                 win32api\n",
      "_queue              fnmatch             pure_eval           win32clipboard\n",
      "_random             fqdn                py_compile          win32com\n",
      "_sha1               fractions           pyclbr              win32con\n",
      "_sha2               ftplib              pycparser           win32console\n",
      "_sha3               functools           pydoc               win32cred\n",
      "_signal             gc                  pydoc_data          win32crypt\n",
      "_sitebuiltins       genericpath         pyexpat             win32cryptcon\n",
      "_socket             getopt              pygame              win32event\n",
      "_sqlite3            getpass             pygments            win32evtlog\n",
      "_sre                gettext             pythoncom           win32evtlogutil\n",
      "_ssl                glob                pythonjsonlogger    win32file\n",
      "_stat               graphlib            pywin               win32gui\n",
      "_statistics         gzip                pywin32_bootstrap   win32gui_struct\n",
      "_string             h11                 pywin32_testutil    win32help\n",
      "_strptime           hashlib             pywintypes          win32inet\n",
      "_struct             heapq               queue               win32inetcon\n",
      "_symtable           hmac                quopri              win32job\n",
      "_testbuffer         html                random              win32lz\n",
      "_testcapi           http                rasutil             win32net\n",
      "_testclinic         httpcore            re                  win32netcon\n",
      "_testconsole        httpx               referencing         win32pdh\n",
      "_testimportmultiple idlelib             regcheck            win32pdhquery\n",
      "_testinternalcapi   idna                regutil             win32pdhutil\n",
      "_testmultiphase     imaplib             reprlib             win32pipe\n",
      "_testsinglephase    imghdr              requests            win32print\n",
      "_thread             importlib           rfc3339_validator   win32process\n",
      "_threading_local    importlib_metadata  rfc3986_validator   win32profile\n",
      "_tkinter            importlib_resources rlcompleter         win32ras\n",
      "_tokenize           inflect             rpds                win32rcparser\n",
      "_tracemalloc        inspect             runpy               win32security\n",
      "_typing             io                  sched               win32service\n",
      "_uuid               ipaddress           secrets             win32serviceutil\n",
      "_warnings           ipykernel           select              win32timezone\n",
      "_weakref            ipykernel_launcher  selectors           win32trace\n",
      "_weakrefset         ipywidgets          selenium            win32traceutil\n",
      "_win32sysloader     isapi               send2trash          win32transaction\n",
      "_win32verstamp_pywin32ctypes isoduration         servicemanager      win32ts\n",
      "_winapi             itertools           setuptools          win32ui\n",
      "_winxptheme         jedi                shelve              win32uiole\n",
      "_wmi                jinja2              shlex               win32verstamp\n",
      "_xxinterpchannels   json                shutil              win32wnet\n",
      "_xxsubinterpreters  json5               signal              winerror\n",
      "_yaml               jsonpointer         site                winioctlcon\n",
      "_zoneinfo           jsonschema          six                 winnt\n",
      "abc                 jsonschema_specifications smtplib             winperf\n",
      "adodbapi            jupyter             sndhdr              winpty\n",
      "afxres              jupyter_client      sniffio             winreg\n",
      "aifc                jupyter_console     socket              winsound\n",
      "antigravity         jupyter_core        socketserver        winxpgui\n",
      "anyio               jupyter_events      socks               winxptheme\n",
      "argon2              jupyter_lsp         sockshandler        wsgiref\n",
      "argparse            jupyter_server      sortedcontainers    wsproto\n",
      "array               jupyter_server_terminals soupsieve           xdrlib\n",
      "arrow               jupyterlab          sqlite3             xml\n",
      "ast                 jupyterlab_pygments sre_compile         xmlrpc\n",
      "asttokens           jupyterlab_server   sre_constants       xxlimited\n",
      "async_lru           jupyterlab_widgets  sre_parse           xxlimited_35\n",
      "asyncio             keyword             ssl                 xxsubtype\n",
      "atexit              lib2to3             sspi                yaml\n",
      "attr                linecache           sspicon             zipapp\n",
      "attrs               locale              stack_data          zipfile\n",
      "audioop             logging             start_pythonwin     zipimport\n",
      "autocommand         lzma                stat                zipp\n",
      "babel               mailbox             statistics          zlib\n",
      "backports           mailcap             string              zmq\n",
      "base64              markupsafe          stringprep          zoneinfo\n",
      "bdb                 marshal             struct              \n",
      "binascii            math                subprocess          \n",
      "bisect              matplotlib_inline   sunau               \n",
      "\n",
      "Enter any module name to get more help.  Or, type \"modules spam\" to search\n",
      "for modules whose name or summary contain the string \"spam\".\n",
      "\n"
     ]
    }
   ],
   "source": [
    "# 파이썬 환경에 설치된 라이브러리 확인\n",
    "help('modules')"
   ]
  },
  {
   "cell_type": "code",
   "execution_count": 11,
   "metadata": {},
   "outputs": [
    {
     "name": "stdout",
     "output_type": "stream",
     "text": [
      "bear\n",
      "Hello\n"
     ]
    }
   ],
   "source": [
    "from og.team.teacher import Animal\n",
    "\n",
    "animal = Animal()\n",
    "\n",
    "print(animal.name)\n",
    "\n",
    "print(animal.greeting())\n"
   ]
  }
 ],
 "metadata": {
  "kernelspec": {
   "display_name": "pylecture_env",
   "language": "python",
   "name": "python3"
  },
  "language_info": {
   "codemirror_mode": {
    "name": "ipython",
    "version": 3
   },
   "file_extension": ".py",
   "mimetype": "text/x-python",
   "name": "python",
   "nbconvert_exporter": "python",
   "pygments_lexer": "ipython3",
   "version": "3.12.7"
  }
 },
 "nbformat": 4,
 "nbformat_minor": 2
}
